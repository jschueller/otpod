{
 "cells": [
  {
   "cell_type": "markdown",
   "metadata": {},
   "source": [
    "# Linear model analysis with censored data"
   ]
  },
  {
   "cell_type": "code",
   "execution_count": 1,
   "metadata": {
    "collapsed": true
   },
   "outputs": [],
   "source": [
    "# import relevant module\n",
    "import openturns as ot\n",
    "import otpod\n",
    "# enable display figure in notebook\n",
    "%matplotlib inline"
   ]
  },
  {
   "cell_type": "markdown",
   "metadata": {},
   "source": [
    "## Generate data"
   ]
  },
  {
   "cell_type": "code",
   "execution_count": 2,
   "metadata": {
    "collapsed": true
   },
   "outputs": [],
   "source": [
    "N = 100\n",
    "ot.RandomGenerator.SetSeed(123456)\n",
    "defectDist = ot.Uniform(0.1, 0.6)\n",
    "# normal epsilon distribution\n",
    "epsilon = ot.Normal(0, 1.9)\n",
    "defects = defectDist.getSample(N)\n",
    "signalsInvBoxCox = defects * 43. + epsilon.getSample(N) + 2.5\n",
    "# Inverse Box Cox transformation\n",
    "invBoxCox = ot.InverseBoxCoxTransform(0.3)\n",
    "signals = invBoxCox(signalsInvBoxCox)"
   ]
  },
  {
   "cell_type": "markdown",
   "metadata": {},
   "source": [
    "## Run analysis with Box Cox"
   ]
  },
  {
   "cell_type": "code",
   "execution_count": 3,
   "metadata": {
    "collapsed": false
   },
   "outputs": [],
   "source": [
    "noiseThres = 60.\n",
    "saturationThres = 1700.\n",
    "analysis = otpod.UnivariateLinearModelAnalysis(defects, signals, noiseThres,\n",
    "                                               saturationThres, boxCox=True)"
   ]
  },
  {
   "cell_type": "markdown",
   "metadata": {},
   "source": [
    "## Get some particular results\n",
    "Result values are given for both analysis performed on filtered data (uncensored case) and on censored data."
   ]
  },
  {
   "cell_type": "code",
   "execution_count": 4,
   "metadata": {
    "collapsed": false
   },
   "outputs": [
    {
     "name": "stdout",
     "output_type": "stream",
     "text": [
      "[Intercept for uncensored case : 4.777, Intercept for censored case : 4.1614]\n",
      "[R2 for uncensored case : 0.869115, R2 for censored case : 0.860722]\n",
      "[Kolmogorov p-value for uncensored case : 0.477505, Kolmogorov p-value for censored case : 0.505919]\n"
     ]
    }
   ],
   "source": [
    "print(analysis.getIntercept())\n",
    "print(analysis.getR2())\n",
    "print(analysis.getKolmogorovPValue())"
   ]
  },
  {
   "cell_type": "markdown",
   "metadata": {},
   "source": [
    "## Print all results of the linear regression and all tests on the residuals"
   ]
  },
  {
   "cell_type": "code",
   "execution_count": 5,
   "metadata": {
    "collapsed": false
   },
   "outputs": [
    {
     "name": "stdout",
     "output_type": "stream",
     "text": [
      "--------------------------------------------------------------------------------\n",
      "         Linear model analysis results\n",
      "--------------------------------------------------------------------------------\n",
      "Box Cox parameter :                                      0.18              \n",
      "                                                                           \n",
      "                                                   Uncensored      Censored\n",
      "                                                                           \n",
      "Intercept coefficient :                                  4.78          4.16\n",
      "Slope coefficient :                                     18.15         19.94\n",
      "Standard error of the estimate :                         0.97          1.03\n",
      "                                                                           \n",
      "Confidence interval on coefficients                                        \n",
      "Intercept coefficient :                          [4.19, 5.36]              \n",
      "Slope coefficient :                             [16.63, 19.67]              \n",
      "Level :                                                  0.95              \n",
      "                                                                           \n",
      "Quality of regression                                                      \n",
      "R2 (> 0.8):                                              0.87          0.86\n",
      "--------------------------------------------------------------------------------\n",
      "\n",
      "--------------------------------------------------------------------------------\n",
      "         Residuals analysis results\n",
      "--------------------------------------------------------------------------------\n",
      "Fitted distribution (uncensored) :              Normal(mu = -2.19492e-15, sigma = 0.968046)              \n",
      "Fitted distribution (censored) :                Normal(mu = -0.0237409, sigma = 0.998599)              \n",
      "                                                                           \n",
      "                                                   Uncensored      Censored\n",
      "Distribution fitting test                                                  \n",
      "Kolmogorov p-value (> 0.05):                             0.48          0.51\n",
      "                                                                           \n",
      "Normality test                                                             \n",
      "Anderson Darling p-value (> 0.05):                       0.06          0.08\n",
      "Cramer Von Mises p-value (> 0.05):                       0.07          0.09\n",
      "                                                                           \n",
      "Zero residual mean test                                                    \n",
      "p-value (> 0.05):                                         1.0          0.83\n",
      "                                                                           \n",
      "Homoskedasticity test (constant variance)                                  \n",
      "Breush Pagan p-value (> 0.05):                           0.69          0.71\n",
      "Harrison McCabe p-value (> 0.05):                         0.6          0.51\n",
      "                                                                           \n",
      "Non autocorrelation test                                                   \n",
      "Durbin Watson p-value (> 0.05):                          0.43          0.48\n",
      "--------------------------------------------------------------------------------\n",
      "\n",
      "\n"
     ]
    }
   ],
   "source": [
    "# Results are displayed for both case\n",
    "print(analysis.getResults())"
   ]
  },
  {
   "cell_type": "markdown",
   "metadata": {},
   "source": [
    "## Save all results in a csv file"
   ]
  },
  {
   "cell_type": "code",
   "execution_count": 6,
   "metadata": {
    "collapsed": true
   },
   "outputs": [],
   "source": [
    "analysis.saveResults('results.csv')"
   ]
  },
  {
   "cell_type": "markdown",
   "metadata": {},
   "source": [
    "## Show graphs\n",
    "### The linear regression model with data for the uncensored case (default case)"
   ]
  },
  {
   "cell_type": "code",
   "execution_count": 7,
   "metadata": {
    "collapsed": false,
    "scrolled": true
   },
   "outputs": [
    {
     "name": "stderr",
     "output_type": "stream",
     "text": [
      "/home/dumas/anaconda2/lib/python2.7/site-packages/matplotlib/figure.py:397: UserWarning: matplotlib is currently using a non-GUI backend, so cannot show the figure\n",
      "  \"matplotlib is currently using a non-GUI backend, \"\n"
     ]
    },
    {
     "data": {
      "image/png": "[encoded data removed]",
      "text/plain": [
       "<matplotlib.figure.Figure at 0x7f8c30f8ec90>"
      ]
     },
     "metadata": {},
     "output_type": "display_data"
    }
   ],
   "source": [
    "# draw the figure for the uncensored case and save it as png file\n",
    "fig, ax = analysis.drawLinearModel(name='figure/linearModelUncensored.png')\n",
    "fig.show()"
   ]
  },
  {
   "cell_type": "markdown",
   "metadata": {},
   "source": [
    "### The linear regression model with data for the censored case"
   ]
  },
  {
   "cell_type": "code",
   "execution_count": 8,
   "metadata": {
    "collapsed": false,
    "scrolled": true
   },
   "outputs": [
    {
     "data": {
      "image/png": "[encoded data removed]",
      "text/plain": [
       "<matplotlib.figure.Figure at 0x7f8c302ae110>"
      ]
     },
     "metadata": {},
     "output_type": "display_data"
    }
   ],
   "source": [
    "# draw the figure for the censored case and save it as png file\n",
    "fig, ax = analysis.drawLinearModel(model='censored', name='figure/linearModelCensored.png')\n",
    "fig.show()"
   ]
  },
  {
   "cell_type": "code",
   "execution_count": null,
   "metadata": {
    "collapsed": true
   },
   "outputs": [],
   "source": []
  },
  {
   "cell_type": "code",
   "execution_count": null,
   "metadata": {
    "collapsed": true
   },
   "outputs": [],
   "source": []
  }
 ],
 "metadata": {
  "anaconda-cloud": {},
  "kernelspec": {
   "display_name": "Python [Root]",
   "language": "python",
   "name": "Python [Root]"
  },
  "language_info": {
   "codemirror_mode": {
    "name": "ipython",
    "version": 2
   },
   "file_extension": ".py",
   "mimetype": "text/x-python",
   "name": "python",
   "nbconvert_exporter": "python",
   "pygments_lexer": "ipython2",
   "version": "2.7.12"
  }
 },
 "nbformat": 4,
 "nbformat_minor": 0
}
